{
 "cells": [
  {
   "cell_type": "markdown",
   "metadata": {},
   "source": [
    "# Mt. Fuji"
   ]
  },
  {
   "cell_type": "markdown",
   "metadata": {},
   "source": [
    "[Problem 1]  "
   ]
  },
  {
   "cell_type": "code",
   "execution_count": null,
   "metadata": {},
   "outputs": [],
   "source": [
    "MOUNT_FUJI = 3776\n",
    "THICKNESS = 0.00008\n",
    "\n",
    "def folds_exceed_height(height=1000, thickness=0.00008):\n",
    "    if height < thickness:\n",
    "        return 0\n",
    "    folded_thickness = 0\n",
    "    i = 0\n",
    "    while height > folded_thickness:\n",
    "        i  += 1\n",
    "        folded_thickness = thickness * 2 ** i\n",
    "    return i\n",
    "\n",
    "print(folds_exceed_height(MOUNT_FUJI ,THICKNESS))"
   ]
  },
  {
   "cell_type": "code",
   "execution_count": null,
   "metadata": {},
   "outputs": [],
   "source": []
  },
  {
   "cell_type": "markdown",
   "metadata": {},
   "source": [
    "[Problem 2] "
   ]
  },
  {
   "cell_type": "code",
   "execution_count": null,
   "metadata": {},
   "outputs": [],
   "source": [
    "import math\n",
    "thickness = 0.00008\n",
    "def num_of_fold(distance):\n",
    "    num_of_folds = math.log(distance/thickness)/ math.log(2)\n",
    "    return num_of_folds\n",
    "num_of_folds = num_of_fold(distance = float(input(\"Enter the Distance: \")))\n",
    "print(\"The number of folds is: \", round(num_of_folds), \"Times\")   "
   ]
  },
  {
   "cell_type": "markdown",
   "metadata": {},
   "source": [
    " how many times you have to bend the paper to reach the \"closest non-Sun star."
   ]
  },
  {
   "cell_type": "markdown",
   "metadata": {},
   "source": [
    "Proxima centauri is the the closest star to earth with a distance of 4,208,000,000,000 km."
   ]
  },
  {
   "cell_type": "markdown",
   "metadata": {},
   "source": [
    "closest non-Sun star"
   ]
  },
  {
   "cell_type": "code",
   "execution_count": null,
   "metadata": {},
   "outputs": [],
   "source": [
    "import math\n",
    "thickness = 0.00008\n",
    "def num_of_fold(distance):\n",
    "    num_of_folds = math.log(distance/thickness)/ math.log(2)\n",
    "    return num_of_folds\n",
    "num_of_folds = num_of_fold(distance = 4208000000000)\n",
    "print(\"The number of folds is: \", round(num_of_folds), \"times\")"
   ]
  },
  {
   "cell_type": "markdown",
   "metadata": {},
   "source": [
    "[Problem 3] "
   ]
  },
  {
   "cell_type": "code",
   "execution_count": null,
   "metadata": {},
   "outputs": [],
   "source": [
    "import math\n",
    "\n",
    "def required_length(number_of_fold, thickness=0.00008):\n",
    "    length = (math.pi * thickness  * (2**number_of_fold + 4) * (2**number_of_fold -1)) / 6\n",
    "    return int(length)\n",
    "\n",
    "print(required_length(\n",
    "    folds_exceed_height(MOUNT_FUJI ,THICKNESS)#FUNCTION FROM PROBLEM ONE\n",
    "))"
   ]
  },
  {
   "cell_type": "markdown",
   "metadata": {},
   "source": [
    "## length of paper"
   ]
  },
  {
   "cell_type": "code",
   "execution_count": null,
   "metadata": {},
   "outputs": [],
   "source": [
    "import math\n",
    "moon = 384400\n",
    "def required_length(number_of_fold, thickness=0.00008):\n",
    "    length = (math.pi * thickness  * (2**number_of_fold + 4) * (2**number_of_fold -1)) / 6\n",
    "    return int(length)\n",
    "\n",
    "print(required_length(\n",
    "    folds_exceed_height(moon ,THICKNESS)#FUNCTION FROM PROBLEM ONE\n",
    "))\n"
   ]
  },
  {
   "cell_type": "markdown",
   "metadata": {},
   "source": [
    "# the closest star to the sun"
   ]
  },
  {
   "cell_type": "code",
   "execution_count": null,
   "metadata": {},
   "outputs": [],
   "source": [
    "alpha_centauri = 39924000000000\n",
    "def required_length(number_of_fold, thickness=0.00008):\n",
    "    length = (math.pi * thickness  * (2**number_of_fold + 4) * (2**number_of_fold -1)) / 6\n",
    "    return int(length)\n",
    "\n",
    "print(required_length(\n",
    "    folds_exceed_height(alpha_centauri ,THICKNESS)\n",
    "))\n"
   ]
  },
  {
   "cell_type": "code",
   "execution_count": null,
   "metadata": {},
   "outputs": [],
   "source": []
  }
 ],
 "metadata": {
  "kernelspec": {
   "display_name": "Python 3",
   "language": "python",
   "name": "python3"
  },
  "language_info": {
   "codemirror_mode": {
    "name": "ipython",
    "version": 3
   },
   "file_extension": ".py",
   "mimetype": "text/x-python",
   "name": "python",
   "nbconvert_exporter": "python",
   "pygments_lexer": "ipython3",
   "version": "3.8.5"
  }
 },
 "nbformat": 4,
 "nbformat_minor": 4
}
