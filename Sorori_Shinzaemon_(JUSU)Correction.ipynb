{
 "cells": [
  {
   "cell_type": "markdown",
   "metadata": {},
   "source": [
    "[PROBLEM 1] Number of Grain of Rice in the 100th day"
   ]
  },
  {
   "cell_type": "code",
   "execution_count": 3,
   "metadata": {},
   "outputs": [
    {
     "name": "stdout",
     "output_type": "stream",
     "text": [
      "1 1\n",
      "2 2\n",
      "3 4\n",
      "4 8\n",
      "5 16\n",
      "6 32\n",
      "7 64\n",
      "8 128\n",
      "9 256\n",
      "10 512\n",
      "11 1024\n",
      "12 2048\n",
      "13 4096\n",
      "14 8192\n",
      "15 16384\n",
      "16 32768\n",
      "17 65536\n",
      "18 131072\n",
      "19 262144\n",
      "20 524288\n",
      "21 1048576\n",
      "22 2097152\n",
      "23 4194304\n",
      "24 8388608\n",
      "25 16777216\n",
      "26 33554432\n",
      "27 67108864\n",
      "28 134217728\n",
      "29 268435456\n",
      "30 536870912\n",
      "31 1073741824\n",
      "32 2147483648\n",
      "33 4294967296\n",
      "34 8589934592\n",
      "35 17179869184\n",
      "36 34359738368\n",
      "37 68719476736\n",
      "38 137438953472\n",
      "39 274877906944\n",
      "40 549755813888\n",
      "41 1099511627776\n",
      "42 2199023255552\n",
      "43 4398046511104\n",
      "44 8796093022208\n",
      "45 17592186044416\n",
      "46 35184372088832\n",
      "47 70368744177664\n",
      "48 140737488355328\n",
      "49 281474976710656\n",
      "50 562949953421312\n",
      "51 1125899906842624\n",
      "52 2251799813685248\n",
      "53 4503599627370496\n",
      "54 9007199254740992\n",
      "55 18014398509481984\n",
      "56 36028797018963968\n",
      "57 72057594037927936\n",
      "58 144115188075855872\n",
      "59 288230376151711744\n",
      "60 576460752303423488\n",
      "61 1152921504606846976\n",
      "62 2305843009213693952\n",
      "63 4611686018427387904\n",
      "64 9223372036854775808\n",
      "65 18446744073709551616\n",
      "66 36893488147419103232\n",
      "67 73786976294838206464\n",
      "68 147573952589676412928\n",
      "69 295147905179352825856\n",
      "70 590295810358705651712\n",
      "71 1180591620717411303424\n",
      "72 2361183241434822606848\n",
      "73 4722366482869645213696\n",
      "74 9444732965739290427392\n",
      "75 18889465931478580854784\n",
      "76 37778931862957161709568\n",
      "77 75557863725914323419136\n",
      "78 151115727451828646838272\n",
      "79 302231454903657293676544\n",
      "80 604462909807314587353088\n",
      "81 1208925819614629174706176\n",
      "82 2417851639229258349412352\n",
      "83 4835703278458516698824704\n",
      "84 9671406556917033397649408\n",
      "85 19342813113834066795298816\n",
      "86 38685626227668133590597632\n",
      "87 77371252455336267181195264\n",
      "88 154742504910672534362390528\n",
      "89 309485009821345068724781056\n",
      "90 618970019642690137449562112\n",
      "91 1237940039285380274899124224\n",
      "92 2475880078570760549798248448\n",
      "93 4951760157141521099596496896\n",
      "94 9903520314283042199192993792\n",
      "95 19807040628566084398385987584\n",
      "96 39614081257132168796771975168\n",
      "97 79228162514264337593543950336\n",
      "98 158456325028528675187087900672\n",
      "99 316912650057057350374175801344\n",
      "100 633825300114114700748351602688\n",
      "1267650600228229401496703205376\n"
     ]
    }
   ],
   "source": [
    "num_days = 100\n",
    "totalgrain_rice = 1\n",
    "\n",
    "for e in range(1, num_days + 1):\n",
    "    print(e, totalgrain_rice)\n",
    "    totalgrain_rice *= 2\n",
    "   \n",
    "print(totalgrain_rice)\n",
    "   \n",
    "           "
   ]
  },
  {
   "cell_type": "code",
   "execution_count": 4,
   "metadata": {},
   "outputs": [
    {
     "name": "stdout",
     "output_type": "stream",
     "text": [
      "day: 1 total grain : 1\n",
      "day: 2 total grain : 2\n",
      "day: 3 total grain : 4\n",
      "day: 4 total grain : 8\n",
      "day: 5 total grain : 16\n",
      "day: 6 total grain : 32\n",
      "day: 7 total grain : 64\n",
      "day: 8 total grain : 128\n",
      "day: 9 total grain : 256\n",
      "day: 10 total grain : 512\n",
      "day: 11 total grain : 1024\n",
      "day: 12 total grain : 2048\n",
      "day: 13 total grain : 4096\n",
      "day: 14 total grain : 8192\n",
      "day: 15 total grain : 16384\n",
      "day: 16 total grain : 32768\n",
      "day: 17 total grain : 65536\n",
      "day: 18 total grain : 131072\n",
      "day: 19 total grain : 262144\n",
      "day: 20 total grain : 524288\n",
      "day: 21 total grain : 1048576\n",
      "day: 22 total grain : 2097152\n",
      "day: 23 total grain : 4194304\n",
      "day: 24 total grain : 8388608\n",
      "day: 25 total grain : 16777216\n",
      "day: 26 total grain : 33554432\n",
      "day: 27 total grain : 67108864\n",
      "day: 28 total grain : 134217728\n",
      "day: 29 total grain : 268435456\n",
      "day: 30 total grain : 536870912\n",
      "day: 31 total grain : 1073741824\n",
      "day: 32 total grain : 2147483648\n",
      "day: 33 total grain : 4294967296\n",
      "day: 34 total grain : 8589934592\n",
      "day: 35 total grain : 17179869184\n",
      "day: 36 total grain : 34359738368\n",
      "day: 37 total grain : 68719476736\n",
      "day: 38 total grain : 137438953472\n",
      "day: 39 total grain : 274877906944\n",
      "day: 40 total grain : 549755813888\n",
      "day: 41 total grain : 1099511627776\n",
      "day: 42 total grain : 2199023255552\n",
      "day: 43 total grain : 4398046511104\n",
      "day: 44 total grain : 8796093022208\n",
      "day: 45 total grain : 17592186044416\n",
      "day: 46 total grain : 35184372088832\n",
      "day: 47 total grain : 70368744177664\n",
      "day: 48 total grain : 140737488355328\n",
      "day: 49 total grain : 281474976710656\n",
      "day: 50 total grain : 562949953421312\n",
      "day: 51 total grain : 1125899906842624\n",
      "day: 52 total grain : 2251799813685248\n",
      "day: 53 total grain : 4503599627370496\n",
      "day: 54 total grain : 9007199254740992\n",
      "day: 55 total grain : 18014398509481984\n",
      "day: 56 total grain : 36028797018963968\n",
      "day: 57 total grain : 72057594037927936\n",
      "day: 58 total grain : 144115188075855872\n",
      "day: 59 total grain : 288230376151711744\n",
      "day: 60 total grain : 576460752303423488\n",
      "day: 61 total grain : 1152921504606846976\n",
      "day: 62 total grain : 2305843009213693952\n",
      "day: 63 total grain : 4611686018427387904\n",
      "day: 64 total grain : 9223372036854775808\n",
      "day: 65 total grain : 18446744073709551616\n",
      "day: 66 total grain : 36893488147419103232\n",
      "day: 67 total grain : 73786976294838206464\n",
      "day: 68 total grain : 147573952589676412928\n",
      "day: 69 total grain : 295147905179352825856\n",
      "day: 70 total grain : 590295810358705651712\n",
      "day: 71 total grain : 1180591620717411303424\n",
      "day: 72 total grain : 2361183241434822606848\n",
      "day: 73 total grain : 4722366482869645213696\n",
      "day: 74 total grain : 9444732965739290427392\n",
      "day: 75 total grain : 18889465931478580854784\n",
      "day: 76 total grain : 37778931862957161709568\n",
      "day: 77 total grain : 75557863725914323419136\n",
      "day: 78 total grain : 151115727451828646838272\n",
      "day: 79 total grain : 302231454903657293676544\n",
      "day: 80 total grain : 604462909807314587353088\n",
      "day: 81 total grain : 1208925819614629174706176\n",
      "day: 82 total grain : 2417851639229258349412352\n",
      "day: 83 total grain : 4835703278458516698824704\n",
      "day: 84 total grain : 9671406556917033397649408\n",
      "day: 85 total grain : 19342813113834066795298816\n",
      "day: 86 total grain : 38685626227668133590597632\n",
      "day: 87 total grain : 77371252455336267181195264\n",
      "day: 88 total grain : 154742504910672534362390528\n",
      "day: 89 total grain : 309485009821345068724781056\n",
      "day: 90 total grain : 618970019642690137449562112\n",
      "day: 91 total grain : 1237940039285380274899124224\n",
      "day: 92 total grain : 2475880078570760549798248448\n",
      "day: 93 total grain : 4951760157141521099596496896\n",
      "day: 94 total grain : 9903520314283042199192993792\n",
      "day: 95 total grain : 19807040628566084398385987584\n",
      "day: 96 total grain : 39614081257132168796771975168\n",
      "day: 97 total grain : 79228162514264337593543950336\n",
      "day: 98 total grain : 158456325028528675187087900672\n",
      "day: 99 total grain : 316912650057057350374175801344\n",
      "day: 100 total grain : 633825300114114700748351602688\n",
      "The total number of grain is:  1267650600228229401496703205376\n"
     ]
    }
   ],
   "source": [
    "num_days = 100\n",
    "totalgrain_rice = 1\n",
    "lst1 = []\n",
    "for i in range(1, num_days + 1,):\n",
    "    print(\"day: {} total grain : {}\".format(i, totalgrain_rice))\n",
    "    lst1.append(totalgrain_rice)\n",
    "    totalgrain_rice = 2**i        \n",
    "print(\"The total number of grain is: \", totalgrain_rice)\n",
    "           "
   ]
  },
  {
   "cell_type": "code",
   "execution_count": 5,
   "metadata": {},
   "outputs": [
    {
     "data": {
      "image/png": "[encoded data removed]",
      "text/plain": [
       "<Figure size 432x288 with 1 Axes>"
      ]
     },
     "metadata": {
      "needs_background": "light"
     },
     "output_type": "display_data"
    },
    {
     "data": {
      "text/plain": [
       "<Figure size 1728x864 with 0 Axes>"
      ]
     },
     "metadata": {},
     "output_type": "display_data"
    }
   ],
   "source": [
    "#plotting the graph\n",
    "import matplotlib.pyplot as plt\n",
    "lst2 = list(range(1, num_days + 1))\n",
    "plt.xlabel('Number of Days')\n",
    "plt.ylabel('Number of Rice')\n",
    "plt.title('Change in the Number of Rice Grain')\n",
    "plt.plot(lst2, lst1 , linewidth=3.0)\n",
    "plt.tick_params(labelsize=10)\n",
    "plt.figure(figsize=(24, 12))\n",
    "plt.show()"
   ]
  },
  {
   "cell_type": "markdown",
   "metadata": {},
   "source": [
    "【Problem 2] Number of rice grains outside of the 100th day"
   ]
  },
  {
   "cell_type": "code",
   "execution_count": 12,
   "metadata": {},
   "outputs": [
    {
     "name": "stdout",
     "output_type": "stream",
     "text": [
      "days: 10\n",
      "grains: 1023\n"
     ]
    }
   ],
   "source": [
    "#Create a function\n",
    "def compute_sorori_shinzaemon(day=100):\n",
    "    list_n_grains = [(lambda x: x)(x) for x in range(1, day + 1)]\n",
    "    list_total_grains = [2**x-1 for x in range(1, day + 1) ]\n",
    "    pass\n",
    "    return list_n_grains, list_total_grains\n",
    "list_n_grains, list_total_grains = compute_sorori_shinzaemon(day=10)\n",
    "print(\"days: {}\".format(list_n_grains[-1]))\n",
    "\n",
    "print(\"grains: {}\".format(list_total_grains[-1]))"
   ]
  },
  {
   "cell_type": "markdown",
   "metadata": {},
   "source": [
    "# Plotting the graph\n"
   ]
  },
  {
   "cell_type": "code",
   "execution_count": 14,
   "metadata": {},
   "outputs": [
    {
     "data": {
      "image/png": "[encoded data removed]",
      "text/plain": [
       "<Figure size 432x288 with 1 Axes>"
      ]
     },
     "metadata": {
      "needs_background": "light"
     },
     "output_type": "display_data"
    },
    {
     "data": {
      "text/plain": [
       "<Figure size 1728x864 with 0 Axes>"
      ]
     },
     "metadata": {},
     "output_type": "display_data"
    }
   ],
   "source": [
    "#the graph will be base on the user input\n",
    "import matplotlib.pyplot as plt\n",
    "\n",
    "plt.xlabel('Number of Days')\n",
    "plt.ylabel('Number of Rice')\n",
    "plt.title('Change in the Number of Rice Grain')\n",
    "plt.plot(list_n_grains, list_total_grains, linewidth=3.0)\n",
    "plt.tick_params(labelsize=10)\n",
    "plt.figure(figsize=(24, 12))\n",
    "plt.show()"
   ]
  },
  {
   "cell_type": "code",
   "execution_count": null,
   "metadata": {},
   "outputs": [],
   "source": []
  },
  {
   "cell_type": "markdown",
   "metadata": {},
   "source": [
    "# 【Problem 3] How many people can live for how many days with the rice we get?"
   ]
  },
  {
   "cell_type": "markdown",
   "metadata": {},
   "source": [
    "\n",
    " it takes  400 grams or about  19200 grains of rice to feed one adult for a day."
   ]
  },
  {
   "cell_type": "code",
   "execution_count": null,
   "metadata": {},
   "outputs": [],
   "source": [
    "#Create a function\n",
    "def compute_n_days(number_of_grain, number_of_people, ):\n",
    "    \n",
    "    days_to_live = total_grain_rice/(number_of_grain*number_of_people)\n",
    "    number_of_people = total_grain_rice/(number_of_grain*days_to_live)\n",
    "    return days_to_live\n",
    "days_to_live  = compute_n_days(number_of_grain=19200, number_of_people=60)\n",
    "print(\"{} DAYS\".format(days_to_live))"
   ]
  },
  {
   "cell_type": "code",
   "execution_count": null,
   "metadata": {},
   "outputs": [],
   "source": [
    "#Create a function\n",
    "def compute_n_days(number_of_grain, number_of_people, ):\n",
    "\n",
    "    days_to_live = list_total_grains1[-1]/(number_of_grain*number_of_people)\n",
    "    number_of_people = list_total_grains1[-1]/(number_of_grain*days_to_live)\n",
    "    \n",
    "    return days_to_live\n",
    "days_to_live  = compute_n_days(number_of_grain=19200, number_of_people=60)\n",
    "print(\"{} DAYS\".format(days_to_live))"
   ]
  },
  {
   "cell_type": "code",
   "execution_count": null,
   "metadata": {},
   "outputs": [],
   "source": []
  }
 ],
 "metadata": {
  "kernelspec": {
   "display_name": "Python 3",
   "language": "python",
   "name": "python3"
  },
  "language_info": {
   "codemirror_mode": {
    "name": "ipython",
    "version": 3
   },
   "file_extension": ".py",
   "mimetype": "text/x-python",
   "name": "python",
   "nbconvert_exporter": "python",
   "pygments_lexer": "ipython3",
   "version": "3.8.5"
  }
 },
 "nbformat": 4,
 "nbformat_minor": 4
}
