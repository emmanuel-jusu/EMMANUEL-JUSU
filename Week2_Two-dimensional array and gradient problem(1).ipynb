{
 "cells": [
  {
   "cell_type": "markdown",
   "metadata": {},
   "source": [
    " PROBLEM 1 : Linear Function"
   ]
  },
  {
   "cell_type": "code",
   "execution_count": null,
   "metadata": {},
   "outputs": [],
   "source": [
    "import numpy as np\n",
    "from matplotlib import pyplot as plt\n",
    "%matplotlib inline\n",
    "\n",
    "x_array = np.arange(-50, 50.1, 0.1)\n",
    "y_array = x_array/2 + 1\n",
    "\n",
    "print(x_array)\n",
    "print(y_array)\n",
    "\n",
    "x_array.shape"
   ]
  },
  {
   "cell_type": "markdown",
   "metadata": {},
   "source": [
    "PROBLEM 2 : Array Combination"
   ]
  },
  {
   "cell_type": "code",
   "execution_count": null,
   "metadata": {},
   "outputs": [],
   "source": [
    "xy_array = np.concatenate((x_array[:,np.newaxis], y_array[:,np.newaxis]), axis=1)\n",
    "print(xy_array)\n",
    "xy_array.shape"
   ]
  },
  {
   "cell_type": "markdown",
   "metadata": {},
   "source": [
    " PROBLEM 3 : Find The Gradient"
   ]
  },
  {
   "cell_type": "code",
   "execution_count": null,
   "metadata": {},
   "outputs": [],
   "source": [
    "gradient = (xy_array[1:, 1] - xy_array[:-1, 1])/(xy_array[1:,0] - xy_array[:-1, 0])\n",
    "print(gradient)"
   ]
  },
  {
   "cell_type": "code",
   "execution_count": null,
   "metadata": {},
   "outputs": [],
   "source": [
    "x = x_array\n",
    "y = y_array\n",
    "gradient = np.array(y[1:] - y[:-1])/(x[1:] - x[:-1])\n",
    "\n",
    "print(gradient)\n",
    "print(gradient.shape)"
   ]
  },
  {
   "cell_type": "markdown",
   "metadata": {},
   "source": [
    "PROBLEM 4 : Draw a Graph That Sowm"
   ]
  },
  {
   "cell_type": "code",
   "execution_count": null,
   "metadata": {},
   "outputs": [],
   "source": [
    "plt.title(\"y=x/2 + 1\")\n",
    "plt.xlabel(\"X\")\n",
    "plt.ylabel(\"Y\")\n",
    "plt.plot(xy_array[:,0], xy_array[:,1])\n",
    "plt.show()"
   ]
  },
  {
   "cell_type": "code",
   "execution_count": null,
   "metadata": {},
   "outputs": [],
   "source": [
    "plt.title(\"Gradient of y=x/2 + 1\")\n",
    "plt.xlabel(\"X\")\n",
    "plt.ylabel(\"gradient\")\n",
    "plt.plot(xy_array[:-1, 0], gradient)\n",
    "plt.show()"
   ]
  },
  {
   "cell_type": "markdown",
   "metadata": {},
   "source": [
    "   \n",
    "                     "
   ]
  },
  {
   "cell_type": "code",
   "execution_count": null,
   "metadata": {},
   "outputs": [],
   "source": [
    "PROBLEM 5 : Python Functionalizations"
   ]
  },
  {
   "cell_type": "code",
   "execution_count": null,
   "metadata": {},
   "outputs": [],
   "source": [
    "def compute_gradient(function, x_range = (-50, 50.1, 0.1)):\n",
    "    x_array = np.arange(*x_range)\n",
    "    y_array = function(x_array)\n",
    "    \n",
    "    xy_array = np.concatenate((x_array[:,np.newaxis], y_array[:,np.newaxis]), axis=1)\n",
    "    gradient = (xy_array[1:, 1] - xy_array[:-1, 1])/(xy_array[1:,0] - xy_array[:-1, 0])\n",
    "    return xy_array, gradient\n",
    "\n",
    "def function1(x_array):\n",
    "    y_array = x_array**2\n",
    "    return y_array\n",
    "\n",
    "xy_array1, gradient1 = compute_gradient(function1)\n",
    "print(compute_gradient(function1))\n",
    "    \n",
    "    "
   ]
  },
  {
   "cell_type": "code",
   "execution_count": null,
   "metadata": {},
   "outputs": [],
   "source": [
    "plt.title(\"y=x**2\")\n",
    "plt.xlabel(\"X\")\n",
    "plt.ylabel(\"Y\")\n",
    "plt.plot(xy_array1[:,0], xy_array1[:,1])\n",
    "plt.show()\n",
    "\n",
    "plt.title(\"gradient of y=x**2\")\n",
    "plt.xlabel(\"X\")\n",
    "plt.ylabel(\"gradient\")\n",
    "plt.plot(xy_array1[:-1,0], gradient1)\n",
    "plt.show()"
   ]
  },
  {
   "cell_type": "code",
   "execution_count": null,
   "metadata": {},
   "outputs": [],
   "source": [
    "def compute_gradient(function, x_range = (-50, 50.1, 0.1)):\n",
    "    x_array = np.arange(*x_range)\n",
    "    y_array = function(x_array)\n",
    "    \n",
    "    xy_array = np.concatenate((x_array[:,np.newaxis], y_array[:,np.newaxis]), axis=1)\n",
    "    gradient = (xy_array[1:, 1] - xy_array[:-1, 1])/(xy_array[1:,0] - xy_array[:-1, 0])\n",
    "    return xy_array, gradient\n",
    "\n",
    "def function2(x_array):\n",
    "    y_array = 2*x_array**2 + 2**x_array\n",
    "    return 2*x_array**2 + 2**x_array\n",
    "\n",
    "xy_array2, gradient2 = compute_gradient(function2)\n",
    "print(compute_gradient(function2))\n"
   ]
  },
  {
   "cell_type": "code",
   "execution_count": null,
   "metadata": {},
   "outputs": [],
   "source": [
    "plt.title(\"y=2*x**2 + 2**x\")\n",
    "plt.xlabel(\"X\")\n",
    "plt.ylabel(\"Y\")\n",
    "plt.plot(xy_array2[:,0], xy_array2[:,1])\n",
    "plt.show()\n",
    "\n",
    "plt.title(\"gradient of y=2*x**2 + 2**x\")\n",
    "plt.xlabel(\"X\")\n",
    "plt.ylabel(\"gradient\")\n",
    "plt.plot(xy_array2[:-1 ,0], gradient2)\n",
    "plt.show()"
   ]
  },
  {
   "cell_type": "code",
   "execution_count": null,
   "metadata": {},
   "outputs": [],
   "source": [
    "def compute_gradient(function, x_range = (0, 50.1, 0.1)):\n",
    "    x_array = np.arange(*x_range)\n",
    "    y_array = function(x_array)\n",
    "    \n",
    "    xy_array = np.concatenate((x_array[:,np.newaxis], y_array[:,np.newaxis]), axis=1)\n",
    "    gradient = (xy_array[1:, 1] - xy_array[:-1, 1])/(xy_array[1:,0] - xy_array[:-1, 0])\n",
    "    return xy_array, gradient\n",
    "\n",
    "def function3(x_array):\n",
    "    y_array = x_array**0.5\n",
    "    return x_array**0.5\n",
    "\n",
    "xy_array3, gradient3 = compute_gradient(function3)\n",
    "print(compute_gradient(function3))"
   ]
  },
  {
   "cell_type": "code",
   "execution_count": null,
   "metadata": {},
   "outputs": [],
   "source": [
    "plt.title(\"y=sin(x**o.5)\")\n",
    "plt.xlabel(\"X\")\n",
    "plt.ylabel(\"Y\")\n",
    "plt.plot(xy_array3[:,0], xy_array3[:,1])\n",
    "plt.show()\n",
    "\n",
    "plt.title(\"gradient of y=sin(x**0.5)\")\n",
    "plt.xlabel(\"X\")\n",
    "plt.ylabel(\"gradient\")\n",
    "plt.plot(xy_array3[:-1 ,0], gradient3)\n",
    "plt.show()"
   ]
  },
  {
   "cell_type": "markdown",
   "metadata": {},
   "source": [
    " PROBLEM 6 : Find The Minimum Value"
   ]
  },
  {
   "cell_type": "code",
   "execution_count": null,
   "metadata": {},
   "outputs": [],
   "source": [
    "print(xy_array1.min(axis=0)[1], xy_array1.argmin(axis=0)[1])\n",
    "print(xy_array2.min(axis=0)[1], xy_array2.argmin(axis=0)[1])\n",
    "print(xy_array3.min(axis=0)[1], xy_array3.argmin(axis=0)[1])"
   ]
  },
  {
   "cell_type": "code",
   "execution_count": null,
   "metadata": {},
   "outputs": [],
   "source": [
    "gradient1[490:510]"
   ]
  },
  {
   "cell_type": "code",
   "execution_count": null,
   "metadata": {},
   "outputs": [],
   "source": [
    "gradient2[488:508]"
   ]
  },
  {
   "cell_type": "code",
   "execution_count": null,
   "metadata": {},
   "outputs": [],
   "source": [
    "gradient3[212:232]"
   ]
  },
  {
   "cell_type": "code",
   "execution_count": null,
   "metadata": {},
   "outputs": [],
   "source": []
  }
 ],
 "metadata": {
  "kernelspec": {
   "display_name": "Python 3",
   "language": "python",
   "name": "python3"
  },
  "language_info": {
   "codemirror_mode": {
    "name": "ipython",
    "version": 3
   },
   "file_extension": ".py",
   "mimetype": "text/x-python",
   "name": "python",
   "nbconvert_exporter": "python",
   "pygments_lexer": "ipython3",
   "version": "3.8.5"
  }
 },
 "nbformat": 4,
 "nbformat_minor": 4
}
