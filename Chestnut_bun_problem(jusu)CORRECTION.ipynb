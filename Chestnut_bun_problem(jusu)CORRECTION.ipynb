{
 "cells": [
  {
   "cell_type": "markdown",
   "metadata": {},
   "source": [
    "# THE CHESTNUT BUN PROBLEM"
   ]
  },
  {
   "cell_type": "markdown",
   "metadata": {},
   "source": [
    "PROBLEM 1"
   ]
  },
  {
   "cell_type": "code",
   "execution_count": 1,
   "metadata": {},
   "outputs": [
    {
     "name": "stdout",
     "output_type": "stream",
     "text": [
      "885\n"
     ]
    }
   ],
   "source": [
    "import math\n",
    "chestnut_cake = (6 * 4 * 3) /1000000\n",
    "solar_system = math.pi * 3 * (15 * 10 **15)**3 / 4\n",
    "\n",
    "def minutes_covered(sprinkle_size, compared_size):\n",
    "    count = 0\n",
    "    while sprinkle_size < compared_size:\n",
    "        \n",
    "        sprinkle_size *= 2\n",
    "        count += 1\n",
    "    minute = count * 5   \n",
    "    return minute\n",
    "\n",
    "\n",
    "print(minutes_covered(chestnut_cake, solar_system))"
   ]
  },
  {
   "cell_type": "markdown",
   "metadata": {},
   "source": [
    "PROBLEM 2"
   ]
  },
  {
   "cell_type": "code",
   "execution_count": 2,
   "metadata": {},
   "outputs": [
    {
     "name": "stdout",
     "output_type": "stream",
     "text": [
      "175\n"
     ]
    }
   ],
   "source": [
    "tokyo_dome = 1240000 \n",
    "print(minutes_covered(chestnut_cake, tokyo_dome))"
   ]
  },
  {
   "cell_type": "code",
   "execution_count": null,
   "metadata": {},
   "outputs": [],
   "source": []
  }
 ],
 "metadata": {
  "kernelspec": {
   "display_name": "Python 3",
   "language": "python",
   "name": "python3"
  },
  "language_info": {
   "codemirror_mode": {
    "name": "ipython",
    "version": 3
   },
   "file_extension": ".py",
   "mimetype": "text/x-python",
   "name": "python",
   "nbconvert_exporter": "python",
   "pygments_lexer": "ipython3",
   "version": "3.8.5"
  }
 },
 "nbformat": 4,
 "nbformat_minor": 4
}
