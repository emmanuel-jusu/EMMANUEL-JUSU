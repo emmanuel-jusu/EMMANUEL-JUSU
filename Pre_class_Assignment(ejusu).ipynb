{
 "cells": [
  {
   "cell_type": "markdown",
   "metadata": {},
   "source": [
    "# Problem 1 "
   ]
  },
  {
   "cell_type": "code",
   "execution_count": null,
   "metadata": {},
   "outputs": [],
   "source": [
    "THICKNESS = 0.00008\n",
    "folded_thickness = THICKNESS*2**43\n",
    "print(\"Thickness： {} meters\".format(folded_thickness))"
   ]
  },
  {
   "cell_type": "markdown",
   "metadata": {},
   "source": [
    " # Problem 2 "
   ]
  },
  {
   "cell_type": "code",
   "execution_count": null,
   "metadata": {},
   "outputs": [],
   "source": [
    "#convert a meter into a kilometer \n",
    "print(\"Thickness： {:.2f}km\".format(folded_thickness/10000))\n"
   ]
  },
  {
   "cell_type": "markdown",
   "metadata": {},
   "source": [
    "Distance to the Moon is 384,400 km But the paper is 70368.74km So the paper did not reach the moon\n",
    "\n",
    "# Problem 3 "
   ]
  },
  {
   "cell_type": "code",
   "execution_count": null,
   "metadata": {},
   "outputs": [],
   "source": [
    "num_folds=43\n",
    "thickness=0.00008\n",
    "for i in range(1, num_folds + 1):\n",
    "        thickness = thickness *2*2*2*2*2*2*2*2*2*2*2*2*2*2*2*2*2*2*2*2*2*2*2*2*2*2*2*2*2*2*2*2*2*2*2*2*2*2*2*2*2*2*2\n",
    "        print(\"Thickness： {} meters\".format(thickness))\n",
    "        if thickness >= 10000:\n",
    "            #convert to kilometer\n",
    "            print(\"Thickness： {:.2f}km\".format(thickness/10000))\n",
    "        else:\n",
    "            #convert to meter\n",
    "           \n",
    "            print(\"Thickness： {:.2f}meter\".format(thickness/1000))\n",
    "                \n"
   ]
  },
  {
   "cell_type": "markdown",
   "metadata": {},
   "source": [
    "# Problem 4 "
   ]
  },
  {
   "cell_type": "code",
   "execution_count": null,
   "metadata": {},
   "outputs": [],
   "source": [
    "import time\n",
    "\n",
    "start = time.time()\n",
    "paper_THICKNESS = 0.00008\n",
    "folded_thickness = paper_THICKNESS*2**43\n",
    "print(\"Thickness： {} meters\".format(folded_thickness))\n",
    "elapsed_time = time.time() - start\n",
    "print(\"time : {} sec\".format(elapsed_time))\n"
   ]
  },
  {
   "cell_type": "code",
   "execution_count": null,
   "metadata": {},
   "outputs": [],
   "source": [
    "%%timeit\n",
    "folded_thickness = paper_THICKNESS*2**43\n",
    "folded_thickness\n"
   ]
  },
  {
   "cell_type": "markdown",
   "metadata": {},
   "source": [
    "# Problem 5 "
   ]
  },
  {
   "cell_type": "code",
   "execution_count": null,
   "metadata": {},
   "outputs": [],
   "source": [
    "#Creating an empty list\n",
    "elist = [0.00008]\n",
    "fold_num = 43\n",
    "thickness = 0.00008\n",
    "\n",
    "#folded_thickness = \n",
    "for i in range(1, fold_num + 1):\n",
    "    folded_thickness = thickness*2**i\n",
    "    \n",
    "#Add values to the list\n",
    "    elist.append(folded_thickness)\n",
    "    print(elist)\n",
    "    print(len(elist))"
   ]
  },
  {
   "cell_type": "markdown",
   "metadata": {},
   "source": [
    "# PROBLEM 6- "
   ]
  },
  {
   "cell_type": "code",
   "execution_count": null,
   "metadata": {},
   "outputs": [],
   "source": [
    "import matplotlib.pyplot as plt\n",
    "#%matplotlib inline\n",
    "\n",
    "plt.title(\"thickness of folded paper\")\n",
    "plt.xlabel(\"number of folds\")\n",
    "plt.ylabel(\"thickness[M]\")\n",
    "plt.tick_params(labelsize=10)\n",
    "plt.plot(elist)\n",
    "plt.show()"
   ]
  },
  {
   "cell_type": "markdown",
   "metadata": {},
   "source": [
    "\n",
    "# PROBLEM 7- "
   ]
  },
  {
   "cell_type": "code",
   "execution_count": null,
   "metadata": {},
   "outputs": [],
   "source": [
    "#Making the line dotted\n",
    "plt.title(\"thickness of folded paper\")\n",
    "plt.xlabel(\"number of folds\")\n",
    "plt.ylabel(\"thickness[M]\")\n",
    "#changing line style and color\n",
    "plt.plot(elist, 'ro' )\n",
    "\n",
    "plt.figure(figsize=(48, 20))\n",
    "plt.show()"
   ]
  },
  {
   "cell_type": "code",
   "execution_count": null,
   "metadata": {},
   "outputs": [],
   "source": [
    "plt.title(\"thickness of folded paper\")\n",
    "plt.xlabel(\"number of folds\")\n",
    "plt.ylabel(\"thickness[M]\")\n",
    "#changing line style and color\n",
    "plt.plot(elist, linewidth=3.0, color='red' )\n",
    "plt.tick_params(labelsize=20)\n",
    "plt.figure(figsize=(38, 20))\n",
    "plt.show()\n",
    "\n"
   ]
  },
  {
   "cell_type": "code",
   "execution_count": null,
   "metadata": {},
   "outputs": [],
   "source": []
  }
 ],
 "metadata": {
  "kernelspec": {
   "display_name": "Python 3",
   "language": "python",
   "name": "python3"
  },
  "language_info": {
   "codemirror_mode": {
    "name": "ipython",
    "version": 3
   },
   "file_extension": ".py",
   "mimetype": "text/x-python",
   "name": "python",
   "nbconvert_exporter": "python",
   "pygments_lexer": "ipython3",
   "version": "3.8.5"
  }
 },
 "nbformat": 4,
 "nbformat_minor": 4
}
